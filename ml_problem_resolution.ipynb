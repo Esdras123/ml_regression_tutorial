{
 "cells": [
  {
   "cell_type": "markdown",
   "metadata": {},
   "source": [
    "## Objective"
   ]
  },
  {
   "cell_type": "markdown",
   "metadata": {},
   "source": [
    "This is a mini-tutorial presenting an approach to solve regression problems in machine learning by detailing at each step the different operations that have been performed in order to optimise the final result."
   ]
  },
  {
   "cell_type": "markdown",
   "metadata": {},
   "source": [
    "## Dependencies"
   ]
  },
  {
   "cell_type": "markdown",
   "metadata": {},
   "source": [
    "Let's import the useful libraries for this tutorial"
   ]
  },
  {
   "cell_type": "code",
   "execution_count": null,
   "metadata": {},
   "outputs": [],
   "source": [
    "import pandas as pd\n",
    "\n",
    "# will be used for anova analysis\n",
    "from pingouin import anova\n",
    "# will be used for scaling sata\n",
    "from sklearn.preprocessing import StandardScaler\n",
    "from sklearn.impute import KNNImputer\n",
    "from sklearn.decomposition import PCA\n",
    "import matplotlib.pyplot as plt\n",
    "import numpy as np\n",
    "from sklearn.model_selection import train_test_split"
   ]
  },
  {
   "cell_type": "markdown",
   "metadata": {},
   "source": [
    "### Database loading"
   ]
  },
  {
   "cell_type": "markdown",
   "metadata": {},
   "source": [
    "Now, we are going to load our database which is in the file `database.csv`"
   ]
  },
  {
   "cell_type": "code",
   "execution_count": null,
   "metadata": {},
   "outputs": [],
   "source": [
    "path = \"./dataset.csv\"\n",
    "data = pd.read_csv(path)"
   ]
  },
  {
   "cell_type": "markdown",
   "metadata": {},
   "source": [
    "Let's take a look at what this database looks like"
   ]
  },
  {
   "cell_type": "code",
   "execution_count": null,
   "metadata": {},
   "outputs": [],
   "source": [
    "data"
   ]
  },
  {
   "cell_type": "markdown",
   "metadata": {},
   "source": [
    "### Database preparation"
   ]
  },
  {
   "cell_type": "code",
   "execution_count": null,
   "metadata": {},
   "outputs": [],
   "source": [
    "print(data.head())"
   ]
  },
  {
   "cell_type": "markdown",
   "metadata": {},
   "source": [
    "---------------------------------------------------\n",
    "There is an unneeded column \"Unnamed:0\" that appeared while creating read_csv.\n",
    "Let's move that."
   ]
  },
  {
   "cell_type": "code",
   "execution_count": null,
   "metadata": {},
   "outputs": [],
   "source": [
    "data.drop(\"Unnamed: 0\", axis=1, inplace=True)"
   ]
  },
  {
   "cell_type": "code",
   "execution_count": null,
   "metadata": {},
   "outputs": [],
   "source": [
    "data.info()"
   ]
  },
  {
   "cell_type": "markdown",
   "metadata": {},
   "source": [
    "From this metadata information, we can see that we have **5000 samples** and a variety of types ( float64, int64, bool, object). By looking data we see that this object column (corresponding to feature_1)\n",
    "contains object values (certainly dates). We also observe that some features (feature_20, feature_26,\n",
    "feature_27, feature_28, feature_29, feature_30) miss some data but the number of missing data in each of them\n",
    "is low."
   ]
  },
  {
   "cell_type": "markdown",
   "metadata": {},
   "source": [
    "Now let's check statistics of numerical values (min, max, variance...)"
   ]
  },
  {
   "cell_type": "markdown",
   "metadata": {},
   "source": [
    "#### Dataframe description"
   ]
  },
  {
   "cell_type": "code",
   "execution_count": null,
   "metadata": {},
   "outputs": [],
   "source": [
    "data.describe()"
   ]
  },
  {
   "cell_type": "markdown",
   "metadata": {},
   "source": [
    "From this description we see that the standard deviations of our data and target are really high and\n",
    "the range also is high. We will do standardisation to have more regular data.\n",
    "\n",
    "We see that the feature_21 has only one unique value (min, max, mean are equals and standard deviation equals 0)\n",
    "This feature is not useful for us as it doesn't play a role on the target, we remove it."
   ]
  },
  {
   "cell_type": "code",
   "execution_count": null,
   "metadata": {},
   "outputs": [],
   "source": [
    "data.drop(\"feature_21\", inplace=True, axis=1)"
   ]
  },
  {
   "cell_type": "markdown",
   "metadata": {},
   "source": [
    "Before continuing let's standardise numerical values"
   ]
  },
  {
   "cell_type": "code",
   "execution_count": null,
   "metadata": {},
   "outputs": [],
   "source": [
    "scaler = StandardScaler()"
   ]
  },
  {
   "cell_type": "code",
   "execution_count": null,
   "metadata": {},
   "outputs": [],
   "source": [
    "# select the numerical_columns by excluding bool and object column names\n",
    "numerical_columns = list(data.select_dtypes(exclude=[\"object\", \"bool\"]).columns) "
   ]
  },
  {
   "cell_type": "markdown",
   "metadata": {},
   "source": [
    "We remove the bool column because we don't want it to be standardized as we will loose\n",
    "their True/False signification (0/1)"
   ]
  },
  {
   "cell_type": "code",
   "execution_count": null,
   "metadata": {},
   "outputs": [],
   "source": [
    "data[numerical_columns]= scaler.fit_transform(data[numerical_columns])"
   ]
  },
  {
   "cell_type": "markdown",
   "metadata": {},
   "source": [
    "Now we add booleans since they can be used as numerical"
   ]
  },
  {
   "cell_type": "code",
   "execution_count": null,
   "metadata": {},
   "outputs": [],
   "source": [
    "boolean_columns = list(data.select_dtypes(include=[\"bool\"]).columns)\n",
    "numerical_columns.extend(boolean_columns)"
   ]
  },
  {
   "cell_type": "markdown",
   "metadata": {},
   "source": [
    "Now as said before, there are missing values whose we need to deal with.\n",
    "\n",
    "There are many strategies for dealing with that but here we prefer to use KNN to fill the missing values since it will allow us to have different and certainly more accurate values. Using a strategy which consists of replacing with the mean/mode/constant can affect negatively our data (even as we have few missing values\n",
    "and that KNN is more expensive)."
   ]
  },
  {
   "cell_type": "markdown",
   "metadata": {},
   "source": [
    "we choose 20 so that the model only consider really close values"
   ]
  },
  {
   "cell_type": "code",
   "execution_count": null,
   "metadata": {},
   "outputs": [],
   "source": [
    "imputer = KNNImputer(n_neighbors=20)\n",
    "data[numerical_columns]= imputer.fit_transform(data[numerical_columns])"
   ]
  },
  {
   "cell_type": "markdown",
   "metadata": {},
   "source": [
    "Okay now let's check the importance of features to see if we can remove some of them or reduce dimension"
   ]
  },
  {
   "cell_type": "markdown",
   "metadata": {},
   "source": [
    "Firstly we check the importance of the different numerical values"
   ]
  },
  {
   "cell_type": "markdown",
   "metadata": {},
   "source": [
    "To do so, we observe the correlation between the features and the target."
   ]
  },
  {
   "cell_type": "code",
   "execution_count": null,
   "metadata": {},
   "outputs": [],
   "source": [
    "cor = data.corr()"
   ]
  },
  {
   "cell_type": "markdown",
   "metadata": {},
   "source": [
    "We put the plot in comments for the file to run without interruption but you can remove to visualize"
   ]
  },
  {
   "cell_type": "code",
   "execution_count": null,
   "metadata": {},
   "outputs": [],
   "source": [
    "plt.figure(figsize=(15,10))\n",
    "sns.heatmap(cor, annot=False, cmap=plt.cm.Reds)\n",
    "plt.show()"
   ]
  },
  {
   "cell_type": "code",
   "execution_count": null,
   "metadata": {},
   "outputs": [],
   "source": [
    "print(\"\\n Correlations with target\")\n",
    "cor[\"target\"]"
   ]
  },
  {
   "cell_type": "markdown",
   "metadata": {},
   "source": [
    "we see that there are columns that are not relevant for the target as their correlation coefficient is really close to zero.\n",
    "\n",
    "Let's keep a track on the relevant columns (we consider a column as relevant if the absolute value\n",
    "of the correlation with the target is >0.5)"
   ]
  },
  {
   "cell_type": "code",
   "execution_count": null,
   "metadata": {},
   "outputs": [],
   "source": [
    "cor_target = abs(cor[\"target\"])\n",
    "relevant_columns=list(cor_target[cor_target > 0.5].index)\n",
    "relevant_columns.remove(\"target\")\n",
    "print(\"\\n The number of columns with an absolute correlation > 0.5 is: {}\".format(len(relevant_columns)))"
   ]
  },
  {
   "cell_type": "markdown",
   "metadata": {},
   "source": [
    "Now there are maybe high correlations between those columns. Since it's not necessary to have two high correlated columns let's remove the high correlated ones (those with correlation>=0.9)"
   ]
  },
  {
   "cell_type": "code",
   "execution_count": null,
   "metadata": {},
   "outputs": [],
   "source": [
    "high_corr_rate = 0.9\n",
    "removed_columns = set()\n",
    "for i in range(len(relevant_columns)):\n",
    "    for j in range(i+1, len(relevant_columns)):\n",
    "        if cor[relevant_columns[i]][relevant_columns[j]] >= high_corr_rate:\n",
    "            removed_columns.add(relevant_columns[j])\n",
    "\n",
    "for col in removed_columns:\n",
    "    relevant_columns.remove(col)\n",
    "\n",
    "print(\"\\n The number of finally selected columns is: {}\".format(len(relevant_columns)))"
   ]
  },
  {
   "cell_type": "markdown",
   "metadata": {},
   "source": [
    "we see that we only have 6 numerical columns that are really useful (It can be interesting for models like\n",
    "LinearRegression for example) but are those features sufficiant to produce a really good model after?\n",
    "(The answer will be given from the PCA analysis)\n",
    "\n",
    "we can now remove target from numerical variables"
   ]
  },
  {
   "cell_type": "code",
   "execution_count": null,
   "metadata": {},
   "outputs": [],
   "source": [
    "numerical_columns.remove(\"target\")"
   ]
  },
  {
   "cell_type": "markdown",
   "metadata": {},
   "source": [
    "Let's try the PCA to see how many components are necessary to retrieve a high part of the target variance.\n"
   ]
  },
  {
   "cell_type": "code",
   "execution_count": null,
   "metadata": {},
   "outputs": [],
   "source": [
    "pca = PCA()\n",
    "data_pca = pca.fit_transform(data[numerical_columns])"
   ]
  },
  {
   "cell_type": "markdown",
   "metadata": {},
   "source": [
    "Let's plot the cumulative explained variance ratio"
   ]
  },
  {
   "cell_type": "code",
   "execution_count": null,
   "metadata": {},
   "outputs": [],
   "source": [
    "cumsum = pca.explained_variance_ratio_.cumsum()"
   ]
  },
  {
   "cell_type": "code",
   "execution_count": null,
   "metadata": {},
   "outputs": [],
   "source": [
    "plt.ylabel('% Variance Explained')\n",
    "plt.xlabel('# of Features')\n",
    "plt.title('PCA Analysis')\n",
    "plt.ylim(0,1)\n",
    "plt.style.context('seaborn-whitegrid')\n",
    "\n",
    "plt.plot(cumsum)\n",
    "plt.show()"
   ]
  },
  {
   "cell_type": "code",
   "execution_count": null,
   "metadata": {},
   "outputs": [],
   "source": [
    "print(\"\\n Array of cumulative explained variance ratio\")\n",
    "print(cumsum)"
   ]
  },
  {
   "cell_type": "markdown",
   "metadata": {},
   "source": [
    "we define here a threshold of 95% for selecting components."
   ]
  },
  {
   "cell_type": "code",
   "execution_count": null,
   "metadata": {},
   "outputs": [],
   "source": [
    "threshold = 0.95\n",
    "n_components = 0\n",
    "for i in range(len(cumsum)):\n",
    "    if cumsum[i]> threshold:\n",
    "        n_components = i+1\n",
    "        break"
   ]
  },
  {
   "cell_type": "code",
   "execution_count": null,
   "metadata": {},
   "outputs": [],
   "source": [
    "print(\"\\n The {} first components allow us to have {} % of the total explained variance\".format(n_components,threshold*100))\n"
   ]
  },
  {
   "cell_type": "markdown",
   "metadata": {},
   "source": [
    "We see that with the 11 first components we can retrieve almost all the variance of the data (95%)\n",
    "\n",
    "Having done PCA and feature selection, we observe that for the PCA we are using 11 features and for feature selection 6.\n",
    "\n",
    "But let's also remark that the 6 first components of PCA allow us to have only 83.5% of the total explained variance.\n",
    "So our 6 selected features cannot explain more than that.\n",
    "\n",
    "We prefer continuing with the PCA's data because they also allow us to reduce highly the initial dataframe and helps us to keep the variance"
   ]
  },
  {
   "cell_type": "code",
   "execution_count": null,
   "metadata": {},
   "outputs": [],
   "source": [
    "# create a dataframe for those components\n",
    "data_pca = pd.DataFrame(data=data_pca[:, 0:n_components], columns=[\"component_{}\".format(i+1) for i in range(n_components)])"
   ]
  },
  {
   "cell_type": "markdown",
   "metadata": {},
   "source": [
    "We have now finished with the numerical values,"
   ]
  },
  {
   "cell_type": "markdown",
   "metadata": {},
   "source": [
    "Finally let's check the importance of the object column.\n",
    "\n",
    "Now as feature_1 has an object type, let's see if it is relevant to use One-way ANOVA.\n",
    "\n",
    "So we try to see if the feature_1 column has an importance on the target column, more precisely if the variations of this feature affect the target."
   ]
  },
  {
   "cell_type": "code",
   "execution_count": null,
   "metadata": {},
   "outputs": [],
   "source": [
    "aov = anova(data=data, dv=\"target\", between=\"feature_1\", detailed=True)\n",
    "print(\"\\n One way Analysis of Variance\")\n",
    "print(aov)"
   ]
  },
  {
   "cell_type": "markdown",
   "metadata": {},
   "source": [
    "From this ANOVA we observe that the p-value is really low, that means we cannot remove this categorical feature. It is important."
   ]
  },
  {
   "cell_type": "markdown",
   "metadata": {},
   "source": [
    "Now let's see how we will consider the object column (which contains certainly dates)\n",
    "Let's see how many distinct values there are."
   ]
  },
  {
   "cell_type": "code",
   "execution_count": null,
   "metadata": {},
   "outputs": [],
   "source": [
    "print(\"\\n Number of object values: {}\".format(len(data[\"feature_1\"].unique())))\n"
   ]
  },
  {
   "cell_type": "markdown",
   "metadata": {},
   "source": [
    "We observe that we have only 8 values for this feature (which represents certainly dates).\n",
    "As those are dates we have 2 principal choices, firstly transform those dates in categories and secondly divide this column in 3 columns for day, month and year.\n",
    "\n",
    "For the first method (transform in categories), the advantage is that we only have 8 possible values\n",
    "in our dataset so this representation can be really meaningful for our model. The problem is that we\n",
    "don't know what those dates are representing. Maybe in the production model we will have new dates and\n",
    "just plotting them as unknown can be harmful.\n",
    "\n",
    "For the second method, we can create 3 columns corresponding for the day, month and year.\n",
    "The advantage is that we will be able to take into account new dates. But there is a big inconvenient\n",
    "our model only has few dates and those dates are not even complete. Transforming like this will result\n",
    "in creating too much missing data and will be harmful for our model.\n",
    "\n",
    "Conclusion: Finally we decide to transform the dates in categories. As we don't know the role of this feature\n",
    "it's better to use it as categories and when possible ask more information to the manager."
   ]
  },
  {
   "cell_type": "code",
   "execution_count": null,
   "metadata": {},
   "outputs": [],
   "source": [
    "# transform that column to 8 new columns corresponding to the categorical columns\n",
    "data = pd.get_dummies(data, columns=[\"feature_1\"])"
   ]
  },
  {
   "cell_type": "code",
   "execution_count": null,
   "metadata": {},
   "outputs": [],
   "source": [
    "# create arrays of column names of categorical features and numerical features\n",
    "columns = data.columns\n",
    "categorical_columns = [col for col in columns if \"feature_1_\" in col]\n",
    "numerical_columns = [col for col in columns if col not in categorical_columns]\n",
    "numerical_columns.remove(\"target\")"
   ]
  },
  {
   "cell_type": "code",
   "execution_count": null,
   "metadata": {},
   "outputs": [],
   "source": [
    "# let's add those categorical_columns in our data_fs and data_pca dataframes\n",
    "data_pca[categorical_columns]=data[categorical_columns]"
   ]
  },
  {
   "cell_type": "code",
   "execution_count": null,
   "metadata": {},
   "outputs": [],
   "source": [
    "# now we can split data into training and test set\n",
    "X_train, X_test, y_train, y_test = train_test_split(data_pca, data[\"target\"],\n",
    "                                                                    test_size=0.2, shuffle=True, random_state=51)\n"
   ]
  },
  {
   "cell_type": "markdown",
   "metadata": {},
   "source": [
    "### Model training"
   ]
  },
  {
   "cell_type": "code",
   "execution_count": null,
   "metadata": {},
   "outputs": [],
   "source": [
    "import xgboost as xgb\n",
    "from sklearn.preprocessing import PolynomialFeatures\n",
    "from sklearn.metrics import mean_squared_error, r2_score\n",
    "from sklearn.linear_model import LinearRegression\n",
    "from sklearn.model_selection import cross_val_score\n",
    "from sklearn.model_selection import KFold, RandomizedSearchCV, GridSearchCV\n",
    "from sklearn.pipeline import Pipeline\n",
    "from sklearn.svm import SVR"
   ]
  },
  {
   "cell_type": "markdown",
   "metadata": {},
   "source": [
    "There are many interesting models for regression: Linear Regression, Polynomial regression, Ridge regression, Lasso Regression, ElasticNet Regression, XGBoost, LGBRegressor, Support Vector Machine (SVM), Neural Networks..."
   ]
  },
  {
   "cell_type": "markdown",
   "metadata": {},
   "source": [
    "We are going to consider for this task three models, Polynomial Regression (including linear model), XGBoost, SVM.\n",
    "Firstly Polynomial Regression, because it can quickly be introduced as baseline, XGBoost and SVM because they have shown really good results since their creation"
   ]
  },
  {
   "cell_type": "markdown",
   "metadata": {},
   "source": [
    "The strategy will be to use cross validation for each of those models (to avoid overfitting) and the score we try to maximize is the correlation R2 between our prediction and the target."
   ]
  },
  {
   "cell_type": "code",
   "execution_count": null,
   "metadata": {},
   "outputs": [],
   "source": [
    "# number of folds for validation\n",
    "folds = 5"
   ]
  },
  {
   "cell_type": "code",
   "execution_count": null,
   "metadata": {},
   "outputs": [],
   "source": [
    "# Pipeline for Polynomial Regression\n",
    "print(\"\\n Polynomial Regression with Grid Search\\n\")\n",
    "\n",
    "poly_pipeline = Pipeline([('poly_features', PolynomialFeatures()), ('model', LinearRegression())])"
   ]
  },
  {
   "cell_type": "code",
   "execution_count": null,
   "metadata": {},
   "outputs": [],
   "source": [
    "# degrees of the tested models\n",
    "params = {\"poly_features__degree\": [1,2,3]}"
   ]
  },
  {
   "cell_type": "code",
   "execution_count": null,
   "metadata": {},
   "outputs": [],
   "source": [
    "# try different polynomial models\n",
    "poly_grid = GridSearchCV(poly_pipeline, cv=folds, scoring='r2', param_grid=params)"
   ]
  },
  {
   "cell_type": "code",
   "execution_count": null,
   "metadata": {},
   "outputs": [],
   "source": [
    "# fit the model and do cross validation\n",
    "poly_grid.fit(X_train,y_train)"
   ]
  },
  {
   "cell_type": "code",
   "execution_count": null,
   "metadata": {},
   "outputs": [],
   "source": [
    "print(\"Global results\")\n",
    "print(poly_grid.cv_results_)"
   ]
  },
  {
   "cell_type": "code",
   "execution_count": null,
   "metadata": {},
   "outputs": [],
   "source": [
    "print(\"\\nBest score for polynomial model: {}\".format(poly_grid.best_score_))\n",
    "print(poly_grid.best_params_)"
   ]
  },
  {
   "cell_type": "markdown",
   "metadata": {},
   "source": [
    "We see that the best cross validation score for polynomial model is -1.46 obtained with the linear model (degree=1). This is really bad and means that the model performs poorly on\n",
    "one or more validation sets (when R2 score is lower than 0 (which is not possible in theory\n",
    "but possible in Python according to the documentation), that means that the model performs\n",
    "really poorly and the R2 value for that set makes that the average R2 for all folds is bad as we can see)\n",
    "while looking in depth we see that the majority of folds have a R2 around 0.72 but one of the folds has -9.46\n",
    "this is why the global score is so bad."
   ]
  },
  {
   "cell_type": "markdown",
   "metadata": {},
   "source": [
    "when we look other degrees (2 and 3) we see that the model performs really poorly on validation sets\n",
    "it means it overfits on training sets. Those polynomial models are not adapted"
   ]
  },
  {
   "cell_type": "markdown",
   "metadata": {},
   "source": [
    "Let's just keep the baseline obtained with Linear Regression and compute XGBoost model"
   ]
  },
  {
   "cell_type": "markdown",
   "metadata": {},
   "source": [
    "### XGBoost Model"
   ]
  },
  {
   "cell_type": "code",
   "execution_count": null,
   "metadata": {},
   "outputs": [],
   "source": [
    "print(\"\\n XGBoost Model with Random Search \\n\")"
   ]
  },
  {
   "cell_type": "markdown",
   "metadata": {},
   "source": [
    "We will also do random search to find good parameters"
   ]
  },
  {
   "cell_type": "markdown",
   "metadata": {},
   "source": [
    "We define the list of parameters we want to test.\n",
    "We vary the depth of the tree, the number of estimators, the learning rate (eta)\n",
    "the booster is chosen between work with a set of trees or a set of linear functions\n",
    "the gamma and alpha helps for L1 and L2 regularizations to be sure the model will\n",
    "not overfit"
   ]
  },
  {
   "cell_type": "code",
   "execution_count": null,
   "metadata": {},
   "outputs": [],
   "source": [
    "params = {\n",
    "        'min_child_weight': [1, 5],\n",
    "        'eta': [0.3, 0.02],\n",
    "        'booster': ['gbtree', 'gblinear'],\n",
    "        'n_estimators': [100, 200, 400, 500, 700, 1000]\n",
    "        }"
   ]
  },
  {
   "cell_type": "code",
   "execution_count": null,
   "metadata": {},
   "outputs": [],
   "source": [
    "# the estimator\n",
    "xg_reg = xgb.XGBRegressor(objective ='reg:squarederror', max_depth=8, gamma=1, alpha=1)"
   ]
  },
  {
   "cell_type": "code",
   "execution_count": null,
   "metadata": {},
   "outputs": [],
   "source": [
    "# the number of candidates\n",
    "# this value is selected because of the computation constraint.\n",
    "param_comb = 5"
   ]
  },
  {
   "cell_type": "code",
   "execution_count": null,
   "metadata": {},
   "outputs": [],
   "source": [
    "# we will do a random_search where we will be trying to maximize the r2 score of the predictions and target\n",
    "# without overfitting\n",
    "random_search_xgb = RandomizedSearchCV(xg_reg, param_distributions=params, n_iter=param_comb,\n",
    "    scoring='r2', n_jobs=-1, cv=folds, verbose=3,\n",
    "                                   random_state=1001 )"
   ]
  },
  {
   "cell_type": "code",
   "execution_count": null,
   "metadata": {},
   "outputs": [],
   "source": [
    "random_search_xgb.fit(X_train, y_train)\n",
    "\n",
    "print('\\n Best estimator:')\n",
    "print(random_search_xgb.best_estimator_)\n",
    "print('\\n Best score:')\n",
    "print(random_search_xgb.best_score_)"
   ]
  },
  {
   "cell_type": "markdown",
   "metadata": {},
   "source": [
    "the best validation R2 is 0.72\n",
    "\n",
    "Now let's compute the SVM Regression model"
   ]
  },
  {
   "cell_type": "code",
   "execution_count": null,
   "metadata": {},
   "outputs": [],
   "source": [
    "svm = SVR()\n",
    "params = {\n",
    "    # the model kernel will be linear or Radial Basis Function\n",
    "    'kernel': ['rbf', 'linear'],\n",
    "    # regularization parameter\n",
    "    'C': np.arange(1, 11, 2),\n",
    "    # importance accorded to one training example\n",
    "    'gamma': ['auto', 'scale', 0.2]\n",
    "}\n"
   ]
  },
  {
   "cell_type": "markdown",
   "metadata": {},
   "source": [
    "we will do a random_search where we will be trying to maximize the r2 score of the predictions and target\n",
    "without overfitting"
   ]
  },
  {
   "cell_type": "code",
   "execution_count": null,
   "metadata": {},
   "outputs": [],
   "source": [
    "random_search_svm = RandomizedSearchCV(svm, param_distributions=params, n_iter=param_comb,\n",
    "    scoring='r2', n_jobs=-1, cv=folds, verbose=3,\n",
    "                                   random_state=1001 )"
   ]
  },
  {
   "cell_type": "code",
   "execution_count": null,
   "metadata": {},
   "outputs": [],
   "source": [
    "random_search_svm.fit(X_train, y_train)\n",
    "\n",
    "print('\\n Best estimator:')\n",
    "print(random_search_svm.best_estimator_)\n",
    "print('\\n Best score:')\n",
    "print(random_search_svm.best_score_)"
   ]
  },
  {
   "cell_type": "markdown",
   "metadata": {},
   "source": [
    "Interesting the SVM validation R2 is 0.786 which is higher than the validation of the\n",
    "other models"
   ]
  },
  {
   "cell_type": "markdown",
   "metadata": {},
   "source": [
    "### Model evaluation"
   ]
  },
  {
   "cell_type": "code",
   "execution_count": null,
   "metadata": {},
   "outputs": [],
   "source": [
    "# linear model\n",
    "y_predict_lm = poly_grid.predict(X_test)"
   ]
  },
  {
   "cell_type": "code",
   "execution_count": null,
   "metadata": {},
   "outputs": [],
   "source": [
    "# xgboost with randomsearch\n",
    "y_predict_xgb = random_search_xgb.predict(X_test)"
   ]
  },
  {
   "cell_type": "code",
   "execution_count": null,
   "metadata": {},
   "outputs": [],
   "source": [
    "# svm with randomsearch\n",
    "y_predict_svm = random_search_svm.predict(X_test)"
   ]
  },
  {
   "cell_type": "code",
   "execution_count": null,
   "metadata": {},
   "outputs": [],
   "source": [
    "# store r2_scores\n",
    "r2_lm = r2_score(y_predict_lm, y_test)\n",
    "r2_xgb = r2_score(y_predict_xgb, y_test)\n",
    "r2_svm = r2_score(y_predict_svm, y_test)"
   ]
  },
  {
   "cell_type": "code",
   "execution_count": null,
   "metadata": {},
   "outputs": [],
   "source": [
    "# store root mean squared errors\n",
    "rmse_lm = mean_squared_error(y_predict_lm, y_test)\n",
    "rmse_xgb = mean_squared_error(y_predict_xgb, y_test)\n",
    "rmse_svm = mean_squared_error(y_predict_svm, y_test)"
   ]
  },
  {
   "cell_type": "code",
   "execution_count": null,
   "metadata": {},
   "outputs": [],
   "source": [
    "model_names = [\"linear model\", \"xgboost\", \"SVM\"]\n",
    "metrics = [[r2_lm, r2_xgb, r2_svm], [rmse_lm, rmse_xgb, rmse_svm]]\n",
    "\n",
    "result_df = pd.DataFrame(data=metrics, columns=model_names, index=[\"r2_score\", \"rmse\"])\n"
   ]
  },
  {
   "cell_type": "code",
   "execution_count": null,
   "metadata": {},
   "outputs": [],
   "source": [
    "print(\"\\nEvaluation metrics for the different models\")\n",
    "print(result_df)"
   ]
  },
  {
   "cell_type": "markdown",
   "metadata": {},
   "source": [
    "We can see from this that only the SVM model is performing well.\n",
    "\n",
    "It has a R2 correlation of 0.804 and a RMSE really low (0.1)"
   ]
  },
  {
   "cell_type": "markdown",
   "metadata": {},
   "source": [
    "We also observe that linear model is performing better than xgboost for this test data\n",
    "\n",
    "Now let's plot prediction error"
   ]
  },
  {
   "cell_type": "code",
   "execution_count": null,
   "metadata": {},
   "outputs": [],
   "source": [
    "fig,a =  plt.subplots(3,1)\n",
    "\n",
    "# store results for prediction error\n",
    "results = [y_predict_lm, y_predict_xgb, y_predict_svm]\n",
    "\n",
    "for j in range(3):\n",
    "    a[j].plot([y_test.min(), y_test.max()], [y_test.min(), y_test.max()], 'k--', lw=2, c='#000000')\n",
    "    a[j].scatter(y_test, results[j])\n",
    "    a[j].set_title('Prediction error of {}'.format(model_names[j]))\n",
    "    a[j].set_ylabel('Predicted')\n",
    "\n",
    "plt.xlabel('Measured')\n",
    "plt.show()"
   ]
  },
  {
   "cell_type": "markdown",
   "metadata": {},
   "source": [
    "We observe, as metrics show before, that only SVM model predicts data that are really close to the real data.\n",
    "This is the final model we will use.\n",
    "\n",
    "But it is also important to observe that all the models had to struggle with the same data (we can see that\n",
    "there are some points far away from the y=x curve."
   ]
  },
  {
   "cell_type": "markdown",
   "metadata": {},
   "source": [
    "At the end of our study, we maintain the SVM model SVR(C=7, gamma=0.2).\n",
    "It is important to note that to adapt easily our model to new data we will need to use Pipelines\n",
    "with the different steps we followed (filling of data, pca, categorical values and svm)."
   ]
  },
  {
   "cell_type": "markdown",
   "metadata": {},
   "source": [
    "Thanks !"
   ]
  },
  {
   "cell_type": "code",
   "execution_count": null,
   "metadata": {},
   "outputs": [],
   "source": []
  }
 ],
 "metadata": {
  "kernelspec": {
   "display_name": "Python 3",
   "language": "python",
   "name": "python3"
  },
  "language_info": {
   "codemirror_mode": {
    "name": "ipython",
    "version": 3
   },
   "file_extension": ".py",
   "mimetype": "text/x-python",
   "name": "python",
   "nbconvert_exporter": "python",
   "pygments_lexer": "ipython3",
   "version": "3.8.5"
  }
 },
 "nbformat": 4,
 "nbformat_minor": 4
}
